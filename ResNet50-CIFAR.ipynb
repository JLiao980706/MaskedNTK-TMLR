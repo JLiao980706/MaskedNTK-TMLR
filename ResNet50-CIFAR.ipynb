{
 "cells": [
  {
   "cell_type": "markdown",
   "id": "7137c6b2",
   "metadata": {},
   "source": [
    "# Load the CIFAR-10 Data"
   ]
  },
  {
   "cell_type": "code",
   "execution_count": 1,
   "id": "0a4b4554",
   "metadata": {},
   "outputs": [],
   "source": [
    "import numpy as np\n",
    "import tensorflow as tf\n",
    "import pickle\n",
    "\n",
    "def unpickle(file):\n",
    "    with open(file, 'rb') as fo:\n",
    "        cifar_dict = pickle.load(fo, encoding='bytes')\n",
    "    return cifar_dict\n",
    "\n",
    "train_batch_1 = unpickle('./cifar-10-batches-py/data_batch_1')\n",
    "train_batch_2 = unpickle('./cifar-10-batches-py/data_batch_2')\n",
    "train_batch_3 = unpickle('./cifar-10-batches-py/data_batch_3')\n",
    "train_batch_4 = unpickle('./cifar-10-batches-py/data_batch_4')\n",
    "train_batch_5 = unpickle('./cifar-10-batches-py/data_batch_5')\n",
    "test_batch = unpickle('./cifar-10-batches-py/test_batch')\n",
    "\n",
    "train_dicts = [train_batch_1, train_batch_2, train_batch_3, train_batch_4, train_batch_5]"
   ]
  },
  {
   "cell_type": "code",
   "execution_count": 2,
   "id": "81c5e236",
   "metadata": {},
   "outputs": [
    {
     "name": "stdout",
     "output_type": "stream",
     "text": [
      "(50000, 32, 32, 3) (50000,) (10000, 32, 32, 3) (10000,)\n"
     ]
    }
   ],
   "source": [
    "train_data = np.concatenate([np.array(tdict[b'data']) for tdict in train_dicts], axis=0).reshape((-1, 3, 32, 32)).transpose([0, 2, 3, 1])\n",
    "train_label = np.concatenate([np.array(tdict[b'labels']) for tdict in train_dicts], axis=0)\n",
    "\n",
    "test_data = np.array(test_batch[b'data']).reshape((-1, 3, 32, 32)).transpose([0, 2, 3, 1])\n",
    "test_label = np.array(test_batch[b'labels'])\n",
    "\n",
    "print(train_data.shape, train_label.shape, test_data.shape, test_label.shape)"
   ]
  },
  {
   "cell_type": "markdown",
   "id": "3c29a0ae",
   "metadata": {},
   "source": [
    "# Load Pre-trained ResNet50 and Perform Preprocessing"
   ]
  },
  {
   "cell_type": "code",
   "execution_count": 3,
   "id": "32dbde68",
   "metadata": {},
   "outputs": [
    {
     "name": "stdout",
     "output_type": "stream",
     "text": [
      "Model: \"model\"\n",
      "_________________________________________________________________\n",
      " Layer (type)                Output Shape              Param #   \n",
      "=================================================================\n",
      " input_2 (InputLayer)        [(None, 32, 32, 3)]       0         \n",
      "                                                                 \n",
      " up_sampling2d (UpSampling2D  (None, 224, 224, 3)      0         \n",
      " )                                                               \n",
      "                                                                 \n",
      " resnet50 (Functional)       (None, None, None, 2048)  23587712  \n",
      "                                                                 \n",
      " global_average_pooling2d (G  (None, 2048)             0         \n",
      " lobalAveragePooling2D)                                          \n",
      "                                                                 \n",
      " flatten (Flatten)           (None, 2048)              0         \n",
      "                                                                 \n",
      "=================================================================\n",
      "Total params: 23,587,712\n",
      "Trainable params: 23,534,592\n",
      "Non-trainable params: 53,120\n",
      "_________________________________________________________________\n"
     ]
    }
   ],
   "source": [
    "resnet_50_model = tf.keras.applications.resnet50.ResNet50(include_top=False, weights='imagenet')\n",
    "\n",
    "upstream_input = tf.keras.Input(shape=(32, 32, 3))\n",
    "x = tf.keras.layers.UpSampling2D(size=(7,7))(upstream_input)\n",
    "x = resnet_50_model(x)\n",
    "x = tf.keras.layers.GlobalAveragePooling2D()(x)\n",
    "x = tf.keras.layers.Flatten()(x)\n",
    "\n",
    "upstream_model = tf.keras.Model(inputs=upstream_input, outputs=x)\n",
    "upstream_model.summary()"
   ]
  },
  {
   "cell_type": "code",
   "execution_count": 4,
   "id": "b98302d2",
   "metadata": {},
   "outputs": [
    {
     "name": "stdout",
     "output_type": "stream",
     "text": [
      "Model: \"sequential\"\n",
      "_________________________________________________________________\n",
      " Layer (type)                Output Shape              Param #   \n",
      "=================================================================\n",
      " dense (Dense)               (None, 512)               1049088   \n",
      "                                                                 \n",
      " dense_1 (Dense)             (None, 10)                5130      \n",
      "                                                                 \n",
      "=================================================================\n",
      "Total params: 1,054,218\n",
      "Trainable params: 1,054,218\n",
      "Non-trainable params: 0\n",
      "_________________________________________________________________\n"
     ]
    }
   ],
   "source": [
    "downstream_model = tf.keras.Sequential()\n",
    "downstream_model.add(tf.keras.Input(shape=(2048,)))\n",
    "# downstream_model.add(tf.keras.layers.Dense(1024, activation=\"relu\"))\n",
    "downstream_model.add(tf.keras.layers.Dense(512, activation=\"relu\"))\n",
    "# downstream_model.add(tf.keras.layers.Dropout(0.1))\n",
    "downstream_model.add(tf.keras.layers.Dense(10))\n",
    "downstream_model.build()\n",
    "# downstream_model.compile(optimizer='SGD', metrics=['categorical_accuracy'], loss='categorical_crossentropy')\n",
    "downstream_model.summary()"
   ]
  },
  {
   "cell_type": "code",
   "execution_count": 5,
   "id": "2743a5bf",
   "metadata": {},
   "outputs": [
    {
     "name": "stdout",
     "output_type": "stream",
     "text": [
      "Model: \"model_1\"\n",
      "_________________________________________________________________\n",
      " Layer (type)                Output Shape              Param #   \n",
      "=================================================================\n",
      " input_4 (InputLayer)        [(None, 32, 32, 3)]       0         \n",
      "                                                                 \n",
      " model (Functional)          (None, 2048)              23587712  \n",
      "                                                                 \n",
      " sequential (Sequential)     (None, 10)                1054218   \n",
      "                                                                 \n",
      "=================================================================\n",
      "Total params: 24,641,930\n",
      "Trainable params: 24,588,810\n",
      "Non-trainable params: 53,120\n",
      "_________________________________________________________________\n"
     ]
    }
   ],
   "source": [
    "whole_model_input = tf.keras.Input(shape=(32, 32, 3))\n",
    "whole_output = upstream_model(whole_model_input)\n",
    "whole_output = downstream_model(whole_output)\n",
    "whole_model = tf.keras.Model(inputs=whole_model_input, outputs=whole_output)\n",
    "\n",
    "train_data_ready = tf.keras.applications.resnet50.preprocess_input(train_data)\n",
    "test_data_ready = tf.keras.applications.resnet50.preprocess_input(test_data)\n",
    "\n",
    "train_y_onehot = tf.one_hot(train_label, 10)\n",
    "test_y_onehot = tf.one_hot(test_label, 10)\n",
    "\n",
    "whole_model.summary()\n",
    "whole_model.compile(optimizer='SGD', metrics=['categorical_accuracy'], loss=tf.keras.losses.CategoricalCrossentropy(from_logits=True))"
   ]
  },
  {
   "cell_type": "code",
   "execution_count": 6,
   "id": "23f36d53",
   "metadata": {},
   "outputs": [
    {
     "name": "stdout",
     "output_type": "stream",
     "text": [
      "Epoch 1/3\n",
      "625/625 [==============================] - 111s 170ms/step - loss: 0.4447 - categorical_accuracy: 0.8525 - val_loss: 0.2157 - val_categorical_accuracy: 0.9261\n",
      "Epoch 2/3\n",
      "625/625 [==============================] - 106s 170ms/step - loss: 0.1126 - categorical_accuracy: 0.9636 - val_loss: 0.1884 - val_categorical_accuracy: 0.9376\n",
      "Epoch 3/3\n",
      "625/625 [==============================] - 107s 170ms/step - loss: 0.0365 - categorical_accuracy: 0.9899 - val_loss: 0.1798 - val_categorical_accuracy: 0.9470\n"
     ]
    },
    {
     "data": {
      "text/plain": [
       "<keras.callbacks.History at 0x18676687f10>"
      ]
     },
     "execution_count": 6,
     "metadata": {},
     "output_type": "execute_result"
    }
   ],
   "source": [
    "whole_model.fit(x=train_data_ready,\n",
    "                y=train_y_onehot,\n",
    "                batch_size=64,\n",
    "                epochs=3,\n",
    "                validation_split=0.2)"
   ]
  },
  {
   "cell_type": "code",
   "execution_count": 7,
   "id": "f5a8f9d5",
   "metadata": {},
   "outputs": [
    {
     "name": "stdout",
     "output_type": "stream",
     "text": [
      "313/313 [==============================] - 9s 28ms/step - loss: 0.1726 - categorical_accuracy: 0.9460\n"
     ]
    },
    {
     "data": {
      "text/plain": [
       "[0.17258386313915253, 0.9459999799728394]"
      ]
     },
     "execution_count": 7,
     "metadata": {},
     "output_type": "execute_result"
    }
   ],
   "source": [
    "whole_model.evaluate(x=test_data_ready, y=test_y_onehot)"
   ]
  },
  {
   "cell_type": "code",
   "execution_count": 8,
   "id": "d2ccde8a",
   "metadata": {},
   "outputs": [],
   "source": [
    "test_data_embedded = upstream_model.predict(test_data_ready)\n",
    "test_reg_labels = downstream_model.predict(test_data_embedded)\n"
   ]
  },
  {
   "cell_type": "code",
   "execution_count": 9,
   "id": "e6fcecf6",
   "metadata": {},
   "outputs": [
    {
     "name": "stdout",
     "output_type": "stream",
     "text": [
      "[[0.7106468  1.0221604  0.8439132  ... 0.02926966 0.36094007 1.5012412 ]\n",
      " [0.2524052  0.         0.16202419 ... 0.25519451 0.         1.3707749 ]\n",
      " [0.0033594  0.13601582 0.45645764 ... 0.05592443 0.0251136  0.38941503]\n",
      " ...\n",
      " [0.48810056 0.65276015 0.4458373  ... 0.         0.00387705 0.74837536]\n",
      " [0.7428815  0.5042405  0.         ... 1.4975706  0.30778193 0.61596483]\n",
      " [0.05659481 0.761282   0.05134956 ... 3.2003448  0.910273   0.13906668]] [[-3.6417968  -1.0284551   0.702696   ... -4.835945   -1.1543816\n",
      "  -3.2433705 ]\n",
      " [ 1.3965961   3.303125   -3.4402146  ... -2.8886669  14.258844\n",
      "  -3.6290505 ]\n",
      " [ 1.7380804   4.4006333  -3.4718938  ... -2.7244823   9.778114\n",
      "  -0.95517975]\n",
      " ...\n",
      " [-2.529127   -2.9129558  -0.19578713 ...  0.42118183 -1.6554612\n",
      "  -1.9873008 ]\n",
      " [ 3.061164   10.510604   -0.16372842 ... -1.7127796  -1.5226618\n",
      "  -0.8852281 ]\n",
      " [-2.8599532  -2.1474118  -0.45818564 ... 10.996795   -3.697093\n",
      "  -2.1767864 ]]\n",
      "(10000, 2048) (10000, 10)\n"
     ]
    }
   ],
   "source": [
    "\n",
    "print(test_data_embedded, test_reg_labels)\n",
    "print(test_data_embedded.shape, test_reg_labels.shape)"
   ]
  },
  {
   "cell_type": "code",
   "execution_count": 10,
   "id": "306bf3aa",
   "metadata": {},
   "outputs": [],
   "source": [
    "np.savez('./data/resnet50_data.npz', features=test_data_embedded, labels=test_reg_labels)"
   ]
  },
  {
   "cell_type": "code",
   "execution_count": null,
   "id": "a98f9d94",
   "metadata": {},
   "outputs": [],
   "source": []
  }
 ],
 "metadata": {
  "kernelspec": {
   "display_name": "Python 3 (ipykernel)",
   "language": "python",
   "name": "python3"
  },
  "language_info": {
   "codemirror_mode": {
    "name": "ipython",
    "version": 3
   },
   "file_extension": ".py",
   "mimetype": "text/x-python",
   "name": "python",
   "nbconvert_exporter": "python",
   "pygments_lexer": "ipython3",
   "version": "3.10.4"
  }
 },
 "nbformat": 4,
 "nbformat_minor": 5
}
